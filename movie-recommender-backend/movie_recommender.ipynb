{
  "cells": [
    {
      "cell_type": "code",
      "execution_count": null,
      "metadata": {
        "id": "c-nEVoYNus6a"
      },
      "outputs": [],
      "source": [
        "import numpy as np\n",
        "import pandas as pd\n",
        "import ast\n",
        "from sklearn.feature_extraction.text import CountVectorizer\n",
        "from sklearn.metrics.pairwise import cosine_similarity\n",
        "import pickle"
      ]
    },
    {
      "cell_type": "code",
      "execution_count": null,
      "metadata": {
        "colab": {
          "base_uri": "https://localhost:8080/"
        },
        "id": "FAuMCIvau5A9",
        "outputId": "b0c43d21-e38a-4acd-9c64-4f7d5da5ecc2"
      },
      "outputs": [],
      "source": [
        "movies = pd.read_csv('./files/movies_metadata.csv', low_memory=False)\n",
        "keyword = pd.read_csv('./files/keywords.csv')\n",
        "credits = pd.read_csv('./files/credits.csv')\n"
      ]
    },
    {
      "cell_type": "code",
      "execution_count": null,
      "metadata": {
        "id": "xhVNSqnT9MJs"
      },
      "outputs": [],
      "source": [
        "def getCast(text):\n",
        "  counter = 0\n",
        "  res = []\n",
        "  for i in ast.literal_eval(text):\n",
        "    counter+=1\n",
        "    if(counter > 5):\n",
        "      break\n",
        "    res.append(i['name'])\n",
        "\n",
        "  return res"
      ]
    },
    {
      "cell_type": "code",
      "execution_count": null,
      "metadata": {
        "id": "WEFv_YZi_N94"
      },
      "outputs": [],
      "source": [
        "def getDirector(text):\n",
        "  res = []\n",
        "  for i in ast.literal_eval(text):\n",
        "    if(i['job'] == 'Director'):\n",
        "      res.append(i['name'])\n",
        "  return res"
      ]
    },
    {
      "cell_type": "code",
      "execution_count": null,
      "metadata": {
        "id": "ZmulG7k77sxA"
      },
      "outputs": [],
      "source": [
        "def convert(text):\n",
        "  res = []\n",
        "  for i in ast.literal_eval(text):\n",
        "    res.append(i['name'])\n",
        "  \n",
        "  return res"
      ]
    },
    {
      "cell_type": "code",
      "execution_count": null,
      "metadata": {
        "id": "oO0qaBVDA_7j"
      },
      "outputs": [],
      "source": [
        "def collapse(text):\n",
        "    res = []\n",
        "    for i in text:\n",
        "        res.append(i.replace(\" \",\"\"))\n",
        "    return res"
      ]
    },
    {
      "cell_type": "code",
      "execution_count": null,
      "metadata": {
        "id": "5bZTQFio_ivz"
      },
      "outputs": [],
      "source": [
        "credits['crew'] = credits['crew'].apply(getDirector)\n",
        "credits['cast'] = credits['cast'].apply(getCast)"
      ]
    },
    {
      "cell_type": "code",
      "execution_count": null,
      "metadata": {
        "colab": {
          "base_uri": "https://localhost:8080/",
          "height": 80
        },
        "id": "igJnPgue_2K4",
        "outputId": "9a5944a6-92fa-4b1f-e28f-fb33dae56590"
      },
      "outputs": [],
      "source": [
        "credits.head(1)"
      ]
    },
    {
      "cell_type": "code",
      "execution_count": null,
      "metadata": {
        "id": "rA-KXKd77erT"
      },
      "outputs": [],
      "source": [
        "movies = movies[['genres', 'id', 'imdb_id', 'title', 'overview']]\n",
        "movies['genres'] = movies['genres'].apply(convert)\n",
        "keyword['keywords'] = keyword['keywords'].apply(convert)"
      ]
    },
    {
      "cell_type": "code",
      "execution_count": null,
      "metadata": {
        "id": "dxnBx7zY4E-5"
      },
      "outputs": [],
      "source": [
        "movies['id'] = pd.to_numeric(movies['id'], errors='coerce')\n",
        "movies=movies.dropna(subset=['id'])\n",
        "movies['id'] = movies['id'].astype(int)"
      ]
    },
    {
      "cell_type": "code",
      "execution_count": null,
      "metadata": {
        "id": "6qu-439J7Rdp"
      },
      "outputs": [],
      "source": [
        "movies = movies.merge(keyword, on='id')\n",
        "movies = movies.merge(credits, on='id')"
      ]
    },
    {
      "cell_type": "code",
      "execution_count": null,
      "metadata": {
        "colab": {
          "base_uri": "https://localhost:8080/"
        },
        "id": "4WOA9FyjBnCx",
        "outputId": "20e405c8-05ec-49a4-99ea-6b93952a6696"
      },
      "outputs": [],
      "source": [
        "movies.info()"
      ]
    },
    {
      "cell_type": "code",
      "execution_count": null,
      "metadata": {
        "id": "ALp88NQ5u5DN"
      },
      "outputs": [],
      "source": [
        "movies['cast'] = movies['cast'].apply(collapse)\n",
        "movies['crew'] = movies['crew'].apply(collapse)\n",
        "movies['genres'] = movies['genres'].apply(collapse)"
      ]
    },
    {
      "cell_type": "code",
      "execution_count": null,
      "metadata": {
        "id": "1vETK7kZu5LM"
      },
      "outputs": [],
      "source": [
        "movies['overview'] = movies['overview'].astype(str)\n",
        "movies['overview'] = movies['overview'].apply(lambda x:x.split())"
      ]
    },
    {
      "cell_type": "code",
      "execution_count": null,
      "metadata": {
        "id": "Gcc98Q79Dr71"
      },
      "outputs": [],
      "source": [
        "movies['title'] = movies['title'].astype(str)\n",
        "movies['title'] = movies['title'].apply(lambda x:x.split())"
      ]
    },
    {
      "cell_type": "code",
      "execution_count": null,
      "metadata": {
        "id": "--Wvp2Pku5M9"
      },
      "outputs": [],
      "source": [
        "movies['tags'] = movies['genres'] + movies['title'] + movies['overview'] + movies['keywords'] + movies['crew'] + movies['cast']\n",
        "df = movies.drop(columns=['genres', 'overview', 'keywords', 'crew', 'cast'])"
      ]
    },
    {
      "cell_type": "code",
      "execution_count": null,
      "metadata": {
        "colab": {
          "base_uri": "https://localhost:8080/"
        },
        "id": "LdXtOy9wEoGD",
        "outputId": "538893e7-ac23-4901-85c4-619f2d633e95"
      },
      "outputs": [],
      "source": [
        "df['tags']"
      ]
    },
    {
      "cell_type": "code",
      "execution_count": null,
      "metadata": {
        "id": "pc9dwTT0DX8J"
      },
      "outputs": [],
      "source": [
        "df['tags'] = df['tags'].apply(lambda x: \" \".join(x))\n",
        "df['title'] = df['title'].apply(lambda x: \" \".join(x))"
      ]
    },
    {
      "cell_type": "code",
      "execution_count": null,
      "metadata": {
        "colab": {
          "base_uri": "https://localhost:8080/",
          "height": 270
        },
        "id": "zF9UaY0eu5O_",
        "outputId": "a12633db-8022-4d27-e690-d6d5d0d9c2f2"
      },
      "outputs": [],
      "source": [
        "df.head()"
      ]
    },
    {
      "cell_type": "code",
      "execution_count": null,
      "metadata": {
        "id": "ImmJvbWdu5Qz"
      },
      "outputs": [],
      "source": [
        "cv = CountVectorizer(max_features=5000, stop_words='english')"
      ]
    },
    {
      "cell_type": "code",
      "execution_count": null,
      "metadata": {
        "id": "I1jQsGxFu5Sj"
      },
      "outputs": [],
      "source": [
        "vector = cv.fit_transform(df['tags']).toarray()"
      ]
    },
    {
      "cell_type": "code",
      "execution_count": null,
      "metadata": {
        "id": "RUTWbKe3u5WR"
      },
      "outputs": [],
      "source": [
        "similarity = cosine_similarity(vector)"
      ]
    },
    {
      "cell_type": "code",
      "execution_count": null,
      "metadata": {
        "id": "PTWHj73TBzs2"
      },
      "outputs": [],
      "source": [
        "df[df['title'] == 'The Lego Movie'].index[0]"
      ]
    },
    {
      "cell_type": "code",
      "execution_count": null,
      "metadata": {
        "id": "TabIoiEiBzvo"
      },
      "outputs": [],
      "source": [
        "def recommend(movie):\n",
        "    index = df[df['title'] == movie].index[0]\n",
        "    distances = sorted(list(enumerate(similarity[index])),reverse=True,key = lambda x: x[1])\n",
        "    for i in distances[1:6]:\n",
        "        print(df.iloc[i[0]].title)"
      ]
    },
    {
      "cell_type": "code",
      "execution_count": null,
      "metadata": {
        "id": "s86twPmYBzx4"
      },
      "outputs": [],
      "source": [
        "pickle.dump(df,open('movie_list.pkl','wb'))\n",
        "pickle.dump(similarity,open('similarity.pkl','wb'))"
      ]
    },
    {
      "cell_type": "code",
      "execution_count": null,
      "metadata": {
        "id": "1oBfxzQzBz0X"
      },
      "outputs": [],
      "source": []
    }
  ],
  "metadata": {
    "colab": {
      "collapsed_sections": [],
      "name": "movie-recommender.ipynb",
      "provenance": []
    },
    "interpreter": {
      "hash": "63fd5069d213b44bf678585dea6b12cceca9941eaf7f819626cde1f2670de90d"
    },
    "kernelspec": {
      "display_name": "Python 3.9.6 64-bit",
      "name": "python3"
    },
    "language_info": {
      "codemirror_mode": {
        "name": "ipython",
        "version": 3
      },
      "file_extension": ".py",
      "mimetype": "text/x-python",
      "name": "python",
      "nbconvert_exporter": "python",
      "pygments_lexer": "ipython3",
      "version": "3.9.6"
    }
  },
  "nbformat": 4,
  "nbformat_minor": 0
}
